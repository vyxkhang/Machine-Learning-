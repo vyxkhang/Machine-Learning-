{
 "cells": [
  {
   "cell_type": "code",
   "execution_count": 14,
   "metadata": {},
   "outputs": [],
   "source": [
    "import pandas as pd \n",
    "import numpy as np \n",
    "from scipy.spatial.distance import euclidean\n",
    "from collections import Counter"
   ]
  },
  {
   "cell_type": "code",
   "execution_count": 2,
   "metadata": {},
   "outputs": [
    {
     "data": {
      "text/html": [
       "<div>\n",
       "<style scoped>\n",
       "    .dataframe tbody tr th:only-of-type {\n",
       "        vertical-align: middle;\n",
       "    }\n",
       "\n",
       "    .dataframe tbody tr th {\n",
       "        vertical-align: top;\n",
       "    }\n",
       "\n",
       "    .dataframe thead th {\n",
       "        text-align: right;\n",
       "    }\n",
       "</style>\n",
       "<table border=\"1\" class=\"dataframe\">\n",
       "  <thead>\n",
       "    <tr style=\"text-align: right;\">\n",
       "      <th></th>\n",
       "      <th>customer_id</th>\n",
       "      <th>year_of_birth</th>\n",
       "      <th>educational_level</th>\n",
       "      <th>marital_status</th>\n",
       "      <th>annual_income</th>\n",
       "      <th>purhcase_date</th>\n",
       "      <th>recency</th>\n",
       "      <th>online_purchases</th>\n",
       "      <th>store_purchases</th>\n",
       "      <th>complaints</th>\n",
       "      <th>calls</th>\n",
       "      <th>intercoms</th>\n",
       "    </tr>\n",
       "  </thead>\n",
       "  <tbody>\n",
       "    <tr>\n",
       "      <th>0</th>\n",
       "      <td>20201701</td>\n",
       "      <td>1982</td>\n",
       "      <td>Graduation</td>\n",
       "      <td>Single</td>\n",
       "      <td>58138.0</td>\n",
       "      <td>9/4/2012</td>\n",
       "      <td>58</td>\n",
       "      <td>8</td>\n",
       "      <td>4</td>\n",
       "      <td>0</td>\n",
       "      <td>3</td>\n",
       "      <td>11</td>\n",
       "    </tr>\n",
       "    <tr>\n",
       "      <th>1</th>\n",
       "      <td>20201702</td>\n",
       "      <td>1950</td>\n",
       "      <td>Graduation</td>\n",
       "      <td>Married</td>\n",
       "      <td>46344.0</td>\n",
       "      <td>3/8/2014</td>\n",
       "      <td>38</td>\n",
       "      <td>1</td>\n",
       "      <td>2</td>\n",
       "      <td>0</td>\n",
       "      <td>3</td>\n",
       "      <td>11</td>\n",
       "    </tr>\n",
       "    <tr>\n",
       "      <th>2</th>\n",
       "      <td>20201703</td>\n",
       "      <td>1965</td>\n",
       "      <td>Graduation</td>\n",
       "      <td>Divorced</td>\n",
       "      <td>71613.0</td>\n",
       "      <td>8/21/2013</td>\n",
       "      <td>26</td>\n",
       "      <td>8</td>\n",
       "      <td>10</td>\n",
       "      <td>0</td>\n",
       "      <td>3</td>\n",
       "      <td>11</td>\n",
       "    </tr>\n",
       "    <tr>\n",
       "      <th>3</th>\n",
       "      <td>20201704</td>\n",
       "      <td>1984</td>\n",
       "      <td>Graduation</td>\n",
       "      <td>Relationship</td>\n",
       "      <td>26646.0</td>\n",
       "      <td>2/10/2014</td>\n",
       "      <td>26</td>\n",
       "      <td>2</td>\n",
       "      <td>4</td>\n",
       "      <td>0</td>\n",
       "      <td>3</td>\n",
       "      <td>11</td>\n",
       "    </tr>\n",
       "    <tr>\n",
       "      <th>4</th>\n",
       "      <td>20201705</td>\n",
       "      <td>1981</td>\n",
       "      <td>PhD</td>\n",
       "      <td>Widowed</td>\n",
       "      <td>58293.0</td>\n",
       "      <td>1/19/2014</td>\n",
       "      <td>94</td>\n",
       "      <td>5</td>\n",
       "      <td>6</td>\n",
       "      <td>0</td>\n",
       "      <td>3</td>\n",
       "      <td>11</td>\n",
       "    </tr>\n",
       "  </tbody>\n",
       "</table>\n",
       "</div>"
      ],
      "text/plain": [
       "   customer_id  year_of_birth educational_level marital_status  annual_income  \\\n",
       "0     20201701           1982        Graduation         Single        58138.0   \n",
       "1     20201702           1950        Graduation        Married        46344.0   \n",
       "2     20201703           1965        Graduation       Divorced        71613.0   \n",
       "3     20201704           1984        Graduation   Relationship        26646.0   \n",
       "4     20201705           1981               PhD        Widowed        58293.0   \n",
       "\n",
       "  purhcase_date  recency  online_purchases  store_purchases  complaints  \\\n",
       "0      9/4/2012       58                 8                4           0   \n",
       "1      3/8/2014       38                 1                2           0   \n",
       "2     8/21/2013       26                 8               10           0   \n",
       "3     2/10/2014       26                 2                4           0   \n",
       "4     1/19/2014       94                 5                6           0   \n",
       "\n",
       "   calls  intercoms  \n",
       "0      3         11  \n",
       "1      3         11  \n",
       "2      3         11  \n",
       "3      3         11  \n",
       "4      3         11  "
      ]
     },
     "execution_count": 2,
     "metadata": {},
     "output_type": "execute_result"
    }
   ],
   "source": [
    "df = pd.read_csv('D:\\Learning\\Week4_1_data.csv')\n",
    "df.head(5)"
   ]
  },
  {
   "cell_type": "code",
   "execution_count": 8,
   "metadata": {},
   "outputs": [
    {
     "data": {
      "text/plain": [
       "educational_level\n",
       "Graduation     257\n",
       "PhD            114\n",
       "Master          81\n",
       "High School     40\n",
       "Basic            7\n",
       "Name: count, dtype: int64"
      ]
     },
     "execution_count": 8,
     "metadata": {},
     "output_type": "execute_result"
    }
   ],
   "source": [
    "# Task 1: Thong ke so luong khach hang theo hoc van(High school,master,...)\n",
    "df['educational_level'].value_counts()"
   ]
  },
  {
   "cell_type": "markdown",
   "metadata": {},
   "source": [
    "Annual Income have null values so first have to deal with it by fill in or remove the null values"
   ]
  },
  {
   "cell_type": "code",
   "execution_count": 9,
   "metadata": {},
   "outputs": [
    {
     "data": {
      "text/plain": [
       "customer_id           0\n",
       "year_of_birth         0\n",
       "educational_level     0\n",
       "marital_status        0\n",
       "annual_income        13\n",
       "purhcase_date         0\n",
       "recency               0\n",
       "online_purchases      0\n",
       "store_purchases       0\n",
       "complaints            0\n",
       "calls                 0\n",
       "intercoms             0\n",
       "dtype: int64"
      ]
     },
     "execution_count": 9,
     "metadata": {},
     "output_type": "execute_result"
    }
   ],
   "source": [
    "# Task 2: in ra 20 khach hang co thu nhap ca nhan(annual_income) cao nhat\n",
    "df.isnull().sum()"
   ]
  },
  {
   "cell_type": "code",
   "execution_count": 11,
   "metadata": {},
   "outputs": [],
   "source": [
    "mean_annual_income= df['annual_income'].mean()"
   ]
  },
  {
   "cell_type": "code",
   "execution_count": 12,
   "metadata": {},
   "outputs": [],
   "source": [
    "df['annual_income'].fillna(value=mean_annual_income,inplace=True)"
   ]
  },
  {
   "cell_type": "code",
   "execution_count": 13,
   "metadata": {},
   "outputs": [
    {
     "data": {
      "text/plain": [
       "customer_id          0\n",
       "year_of_birth        0\n",
       "educational_level    0\n",
       "marital_status       0\n",
       "annual_income        0\n",
       "purhcase_date        0\n",
       "recency              0\n",
       "online_purchases     0\n",
       "store_purchases      0\n",
       "complaints           0\n",
       "calls                0\n",
       "intercoms            0\n",
       "dtype: int64"
      ]
     },
     "execution_count": 13,
     "metadata": {},
     "output_type": "execute_result"
    }
   ],
   "source": [
    "df.isnull().sum()"
   ]
  },
  {
   "cell_type": "code",
   "execution_count": 20,
   "metadata": {},
   "outputs": [
    {
     "name": "stdout",
     "output_type": "stream",
     "text": [
      "Top 20 customers with the highest annual income:\n",
      "     customer_id  annual_income\n",
      "164     20201865       157243.0\n",
      "252     20201953       102692.0\n",
      "203     20201904       102160.0\n",
      "124     20201825       101970.0\n",
      "424     20202125        93027.0\n",
      "426     20202127        92910.0\n",
      "140     20201841        92859.0\n",
      "418     20202119        91065.0\n",
      "116     20201817        90765.0\n",
      "456     20202157        89572.0\n",
      "109     20201810        89058.0\n",
      "67      20201768        88194.0\n",
      "120     20201821        88193.0\n",
      "198     20201899        86718.0\n",
      "407     20202108        86164.0\n",
      "142     20201843        86111.0\n",
      "113     20201814        86037.0\n",
      "102     20201803        85693.0\n",
      "356     20202057        85503.0\n",
      "195     20201896        85317.0\n"
     ]
    }
   ],
   "source": [
    "top_20_customers = df.sort_values(by='annual_income', ascending=False).head(20)\n",
    "print(\"Top 20 customers with the highest annual income:\")\n",
    "print(top_20_customers[['customer_id', 'annual_income']])"
   ]
  },
  {
   "cell_type": "code",
   "execution_count": null,
   "metadata": {},
   "outputs": [
    {
     "name": "stdout",
     "output_type": "stream",
     "text": [
      "Customers born after 1960 with an annual income above $50,000:\n",
      "     customer_id  year_of_birth  annual_income\n",
      "0       20201701           1982        58138.0\n",
      "2       20201703           1965        71613.0\n",
      "4       20201705           1981        58293.0\n",
      "5       20201706           1967        62000.0\n",
      "6       20201707           1971        55635.0\n",
      "..           ...            ...            ...\n",
      "486     20202187           1976        56290.0\n",
      "487     20202188           1974        60093.0\n",
      "493     20202194           1964        58308.0\n",
      "495     20202196           1962        59432.0\n",
      "496     20202197           1978        55563.0\n",
      "\n",
      "[215 rows x 3 columns]\n"
     ]
    }
   ],
   "source": [
    "# Task 3: In ra khách hàng sinh sau năm 1960 và thu nhập trên 50.000 đô/ năm \n",
    "# Filter customers born after 1960 and with annual income above $50,000\n",
    "filtered_customers = df[(df['year_of_birth'] > 1960) & (df['annual_income'] > 50000)]\n",
    "# Display the filtered customers\n",
    "print(\"Customers born after 1960 with an annual income above $50,000:\")\n",
    "print(filtered_customers[['customer_id', 'year_of_birth', 'annual_income']])"
   ]
  },
  {
   "cell_type": "code",
   "execution_count": 30,
   "metadata": {},
   "outputs": [],
   "source": [
    "# Task 4: ket hop dieu kien task 2 va 3 "
   ]
  },
  {
   "cell_type": "code",
   "execution_count": null,
   "metadata": {},
   "outputs": [
    {
     "name": "stdout",
     "output_type": "stream",
     "text": [
      "Top 20 customers born after 1960 with an income above $50,000:\n",
      "     customer_id  year_of_birth  annual_income\n",
      "252     20201953           1997       102692.0\n",
      "203     20201904           1989       102160.0\n",
      "424     20202125           1967        93027.0\n",
      "140     20201841           1987        92859.0\n",
      "418     20202119           2000        91065.0\n",
      "116     20201817           2000        90765.0\n",
      "109     20201810           1993        89058.0\n",
      "67      20201768           1984        88194.0\n",
      "198     20201899           1984        86718.0\n",
      "407     20202108           1989        86164.0\n",
      "142     20201843           1989        86111.0\n",
      "113     20201814           1997        86037.0\n",
      "102     20201803           1986        85693.0\n",
      "195     20201896           1981        85317.0\n",
      "430     20202131           1975        84865.0\n",
      "347     20202048           1970        84835.0\n",
      "29      20201730           1965        84618.0\n",
      "176     20201877           1991        83837.0\n",
      "217     20201918           1985        83790.0\n",
      "389     20202090           1980        83664.0\n"
     ]
    }
   ],
   "source": [
    "filtered_df = df[(df['year_of_birth'] > 1960) & (df['annual_income'] > 50000)]\n",
    "sorted_customers = filtered_df.sort_values(by='annual_income', ascending=False)\n",
    "top_20_filtered_customers = sorted_customers.head(20)\n",
    "print(\"Top 20 customers born after 1960 with an income above $50,000:\")\n",
    "print(top_20_filtered_customers[['customer_id', 'year_of_birth', 'annual_income']])"
   ]
  },
  {
   "cell_type": "code",
   "execution_count": 44,
   "metadata": {},
   "outputs": [
    {
     "name": "stdout",
     "output_type": "stream",
     "text": [
      "Customers with marriage status married or divorced\n",
      "     customer_id marital_status\n",
      "1       20201702        Married\n",
      "2       20201703       Divorced\n",
      "6       20201707       Divorced\n",
      "7       20201708        Married\n",
      "12      20201713       Divorced\n",
      "..           ...            ...\n",
      "488     20202189        Married\n",
      "491     20202192       Divorced\n",
      "494     20202195       Divorced\n",
      "495     20202196       Divorced\n",
      "496     20202197       Divorced\n",
      "\n",
      "[212 rows x 2 columns]\n"
     ]
    }
   ],
   "source": [
    "#Task 5: In ra khach hang co tinh trang hon nhan la da ket hon or da ly hon\n",
    "marriage_status = df[(df['marital_status'] == 'Married') | (df['marital_status'] == \"Divorced\")]\n",
    "print(\"Customers with marriage status married or divorced\" )\n",
    "print(marriage_status[['customer_id', 'marital_status']])"
   ]
  },
  {
   "cell_type": "code",
   "execution_count": 47,
   "metadata": {},
   "outputs": [
    {
     "name": "stdout",
     "output_type": "stream",
     "text": [
      "educational_level\n",
      "Basic          19514.571429\n",
      "Graduation     51603.054603\n",
      "High School    44337.212603\n",
      "Master         51194.944495\n",
      "PhD            55762.557126\n",
      "Name: annual_income, dtype: float64\n"
     ]
    }
   ],
   "source": [
    "#Task 6: Tính mức thu nhập trung bình theo trình độ học vấn\n",
    "average_income_by_education = df.groupby('educational_level')['annual_income'].mean()\n",
    "print(average_income_by_education)"
   ]
  },
  {
   "cell_type": "code",
   "execution_count": 54,
   "metadata": {},
   "outputs": [
    {
     "name": "stdout",
     "output_type": "stream",
     "text": [
      "educational_level  marital_status\n",
      "Basic              Divorced          20797.000000\n",
      "                   Relationship      16443.000000\n",
      "                   Single            24882.000000\n",
      "Graduation         Divorced          52427.826615\n",
      "                   Married           49654.119526\n",
      "                   Relationship      53219.117808\n",
      "                   Single            51706.401842\n",
      "                   Widow             48097.500000\n",
      "                   Widowed           52221.600000\n",
      "High School        Divorced          49483.333333\n",
      "                   Married           38747.533333\n",
      "                   Relationship      51574.692308\n",
      "                   Single            48952.250686\n",
      "                   Widow             28457.000000\n",
      "                   Widowed           25592.000000\n",
      "Master             Divorced          46979.583333\n",
      "                   Married           52810.526316\n",
      "                   Relationship      46278.225206\n",
      "                   Single            56847.142857\n",
      "                   Widow             51529.000000\n",
      "                   Widowed           51094.000000\n",
      "PhD                Divorced          56062.375206\n",
      "                   Married           53011.979338\n",
      "                   Relationship      57807.887230\n",
      "                   Single            54087.631579\n",
      "                   Widow             50520.000000\n",
      "                   Widowed           57535.105263\n",
      "Name: annual_income, dtype: float64\n"
     ]
    }
   ],
   "source": [
    "# Task 7: Tính mức thu nhập trung bình theo trình độ học vấn + tình trạng hôn nhân\n",
    "average_income_by_education_and_marriage_status = df.groupby(['educational_level', 'marital_status'])['annual_income'].mean()\n",
    "print(average_income_by_education_and_marriage_status)"
   ]
  },
  {
   "cell_type": "code",
   "execution_count": null,
   "metadata": {},
   "outputs": [],
   "source": [
    "# Task 8: Đưa ra các kết luận, đánh giá về các phân khúc khách hàng dựa vào kết quả của Task 1-7"
   ]
  },
  {
   "cell_type": "code",
   "execution_count": 6,
   "metadata": {},
   "outputs": [
    {
     "data": {
      "text/html": [
       "<div>\n",
       "<style scoped>\n",
       "    .dataframe tbody tr th:only-of-type {\n",
       "        vertical-align: middle;\n",
       "    }\n",
       "\n",
       "    .dataframe tbody tr th {\n",
       "        vertical-align: top;\n",
       "    }\n",
       "\n",
       "    .dataframe thead th {\n",
       "        text-align: right;\n",
       "    }\n",
       "</style>\n",
       "<table border=\"1\" class=\"dataframe\">\n",
       "  <thead>\n",
       "    <tr style=\"text-align: right;\">\n",
       "      <th></th>\n",
       "      <th>Id</th>\n",
       "      <th>SepalLengthCm</th>\n",
       "      <th>SepalWidthCm</th>\n",
       "      <th>PetalLengthCm</th>\n",
       "      <th>PetalWidthCm</th>\n",
       "      <th>Species</th>\n",
       "    </tr>\n",
       "  </thead>\n",
       "  <tbody>\n",
       "    <tr>\n",
       "      <th>0</th>\n",
       "      <td>1</td>\n",
       "      <td>5.1</td>\n",
       "      <td>3.5</td>\n",
       "      <td>1.4</td>\n",
       "      <td>0.2</td>\n",
       "      <td>Iris-setosa</td>\n",
       "    </tr>\n",
       "    <tr>\n",
       "      <th>1</th>\n",
       "      <td>2</td>\n",
       "      <td>4.9</td>\n",
       "      <td>3.0</td>\n",
       "      <td>1.4</td>\n",
       "      <td>0.2</td>\n",
       "      <td>Iris-setosa</td>\n",
       "    </tr>\n",
       "    <tr>\n",
       "      <th>2</th>\n",
       "      <td>3</td>\n",
       "      <td>4.7</td>\n",
       "      <td>3.2</td>\n",
       "      <td>1.3</td>\n",
       "      <td>0.2</td>\n",
       "      <td>Iris-setosa</td>\n",
       "    </tr>\n",
       "    <tr>\n",
       "      <th>3</th>\n",
       "      <td>4</td>\n",
       "      <td>4.6</td>\n",
       "      <td>3.1</td>\n",
       "      <td>1.5</td>\n",
       "      <td>0.2</td>\n",
       "      <td>Iris-setosa</td>\n",
       "    </tr>\n",
       "    <tr>\n",
       "      <th>4</th>\n",
       "      <td>5</td>\n",
       "      <td>5.0</td>\n",
       "      <td>3.6</td>\n",
       "      <td>1.4</td>\n",
       "      <td>0.2</td>\n",
       "      <td>Iris-setosa</td>\n",
       "    </tr>\n",
       "  </tbody>\n",
       "</table>\n",
       "</div>"
      ],
      "text/plain": [
       "   Id  SepalLengthCm  SepalWidthCm  PetalLengthCm  PetalWidthCm      Species\n",
       "0   1            5.1           3.5            1.4           0.2  Iris-setosa\n",
       "1   2            4.9           3.0            1.4           0.2  Iris-setosa\n",
       "2   3            4.7           3.2            1.3           0.2  Iris-setosa\n",
       "3   4            4.6           3.1            1.5           0.2  Iris-setosa\n",
       "4   5            5.0           3.6            1.4           0.2  Iris-setosa"
      ]
     },
     "execution_count": 6,
     "metadata": {},
     "output_type": "execute_result"
    }
   ],
   "source": [
    "df2 = pd.read_csv('D:\\Learning\\Iris (1).csv')\n",
    "df2.head(5)"
   ]
  },
  {
   "cell_type": "code",
   "execution_count": 63,
   "metadata": {},
   "outputs": [
    {
     "name": "stdout",
     "output_type": "stream",
     "text": [
      "Mean sepal length: \n",
      "Species\n",
      "Iris-setosa        5.006\n",
      "Iris-versicolor    5.936\n",
      "Iris-virginica     6.588\n",
      "Name: SepalLengthCm, dtype: float64\n",
      "Mean speal width: \n",
      "Species\n",
      "Iris-setosa        3.418\n",
      "Iris-versicolor    2.770\n",
      "Iris-virginica     2.974\n",
      "Name: SepalWidthCm, dtype: float64\n"
     ]
    }
   ],
   "source": [
    "# 1a \n",
    "mean_sepal_length = df2.groupby(['Species'])['SepalLengthCm'].mean()\n",
    "mean_sepal_width = df2.groupby(['Species'])['SepalWidthCm'].mean()\n",
    "print(\"Mean sepal length: \")\n",
    "print(mean_sepal_length)\n",
    "print(\"Mean speal width: \")\n",
    "print(mean_sepal_width)"
   ]
  },
  {
   "cell_type": "code",
   "execution_count": 70,
   "metadata": {},
   "outputs": [
    {
     "name": "stdout",
     "output_type": "stream",
     "text": [
      "0      5.1\n",
      "1      4.9\n",
      "2      4.7\n",
      "3      4.6\n",
      "4      5.0\n",
      "5      5.4\n",
      "6      4.6\n",
      "7      5.0\n",
      "8      4.4\n",
      "9      4.9\n",
      "50     7.0\n",
      "51     6.4\n",
      "52     6.9\n",
      "53     5.5\n",
      "54     6.5\n",
      "55     5.7\n",
      "56     6.3\n",
      "57     4.9\n",
      "58     6.6\n",
      "59     5.2\n",
      "100    6.3\n",
      "101    5.8\n",
      "102    7.1\n",
      "103    6.3\n",
      "104    6.5\n",
      "105    7.6\n",
      "106    4.9\n",
      "107    7.3\n",
      "108    6.7\n",
      "109    7.2\n",
      "Name: SepalLengthCm, dtype: float64\n"
     ]
    }
   ],
   "source": [
    "top_10_each_species_length = df2.groupby(['Species'])['SepalLengthCm'].head(10)\n",
    "print(top_10_each_species_length)"
   ]
  },
  {
   "cell_type": "code",
   "execution_count": 64,
   "metadata": {},
   "outputs": [
    {
     "name": "stdout",
     "output_type": "stream",
     "text": [
      "Max length of each species: \n",
      "Species\n",
      "Iris-setosa        5.8\n",
      "Iris-versicolor    7.0\n",
      "Iris-virginica     7.9\n",
      "Name: SepalLengthCm, dtype: float64\n",
      "Max sepal width of each species: \n",
      "Species\n",
      "Iris-setosa        4.4\n",
      "Iris-versicolor    3.4\n",
      "Iris-virginica     3.8\n",
      "Name: SepalWidthCm, dtype: float64\n"
     ]
    }
   ],
   "source": [
    "#2a\n",
    "max_sepal_length = df2.groupby(['Species'])['SepalLengthCm'].max()\n",
    "print(\"Max length of each species: \")\n",
    "print(max_sepal_length)\n",
    "max_sepal_width = df2.groupby(['Species'])['SepalWidthCm'].max()\n",
    "print(\"Max sepal width of each species: \")\n",
    "print(max_sepal_width)"
   ]
  },
  {
   "cell_type": "code",
   "execution_count": null,
   "metadata": {},
   "outputs": [],
   "source": [
    "#3a \n"
   ]
  },
  {
   "cell_type": "code",
   "execution_count": null,
   "metadata": {},
   "outputs": [],
   "source": [
    "#1b: In ra chieu dai dai hoa lon nhat cua 10 bong hoa moi loai\n",
    "def largest_length_species()"
   ]
  },
  {
   "cell_type": "code",
   "execution_count": 74,
   "metadata": {},
   "outputs": [],
   "source": [
    "# Split the dataset into features (X) and labels (y)\n",
    "X = df2[['SepalLengthCm', 'SepalWidthCm']]\n",
    "y = df2['Species']"
   ]
  },
  {
   "cell_type": "code",
   "execution_count": null,
   "metadata": {},
   "outputs": [],
   "source": [
    "knn = KNeighborsClassifier(n_neighbors=1)"
   ]
  },
  {
   "cell_type": "code",
   "execution_count": 76,
   "metadata": {},
   "outputs": [
    {
     "data": {
      "text/html": [
       "<style>#sk-container-id-1 {color: black;background-color: white;}#sk-container-id-1 pre{padding: 0;}#sk-container-id-1 div.sk-toggleable {background-color: white;}#sk-container-id-1 label.sk-toggleable__label {cursor: pointer;display: block;width: 100%;margin-bottom: 0;padding: 0.3em;box-sizing: border-box;text-align: center;}#sk-container-id-1 label.sk-toggleable__label-arrow:before {content: \"▸\";float: left;margin-right: 0.25em;color: #696969;}#sk-container-id-1 label.sk-toggleable__label-arrow:hover:before {color: black;}#sk-container-id-1 div.sk-estimator:hover label.sk-toggleable__label-arrow:before {color: black;}#sk-container-id-1 div.sk-toggleable__content {max-height: 0;max-width: 0;overflow: hidden;text-align: left;background-color: #f0f8ff;}#sk-container-id-1 div.sk-toggleable__content pre {margin: 0.2em;color: black;border-radius: 0.25em;background-color: #f0f8ff;}#sk-container-id-1 input.sk-toggleable__control:checked~div.sk-toggleable__content {max-height: 200px;max-width: 100%;overflow: auto;}#sk-container-id-1 input.sk-toggleable__control:checked~label.sk-toggleable__label-arrow:before {content: \"▾\";}#sk-container-id-1 div.sk-estimator input.sk-toggleable__control:checked~label.sk-toggleable__label {background-color: #d4ebff;}#sk-container-id-1 div.sk-label input.sk-toggleable__control:checked~label.sk-toggleable__label {background-color: #d4ebff;}#sk-container-id-1 input.sk-hidden--visually {border: 0;clip: rect(1px 1px 1px 1px);clip: rect(1px, 1px, 1px, 1px);height: 1px;margin: -1px;overflow: hidden;padding: 0;position: absolute;width: 1px;}#sk-container-id-1 div.sk-estimator {font-family: monospace;background-color: #f0f8ff;border: 1px dotted black;border-radius: 0.25em;box-sizing: border-box;margin-bottom: 0.5em;}#sk-container-id-1 div.sk-estimator:hover {background-color: #d4ebff;}#sk-container-id-1 div.sk-parallel-item::after {content: \"\";width: 100%;border-bottom: 1px solid gray;flex-grow: 1;}#sk-container-id-1 div.sk-label:hover label.sk-toggleable__label {background-color: #d4ebff;}#sk-container-id-1 div.sk-serial::before {content: \"\";position: absolute;border-left: 1px solid gray;box-sizing: border-box;top: 0;bottom: 0;left: 50%;z-index: 0;}#sk-container-id-1 div.sk-serial {display: flex;flex-direction: column;align-items: center;background-color: white;padding-right: 0.2em;padding-left: 0.2em;position: relative;}#sk-container-id-1 div.sk-item {position: relative;z-index: 1;}#sk-container-id-1 div.sk-parallel {display: flex;align-items: stretch;justify-content: center;background-color: white;position: relative;}#sk-container-id-1 div.sk-item::before, #sk-container-id-1 div.sk-parallel-item::before {content: \"\";position: absolute;border-left: 1px solid gray;box-sizing: border-box;top: 0;bottom: 0;left: 50%;z-index: -1;}#sk-container-id-1 div.sk-parallel-item {display: flex;flex-direction: column;z-index: 1;position: relative;background-color: white;}#sk-container-id-1 div.sk-parallel-item:first-child::after {align-self: flex-end;width: 50%;}#sk-container-id-1 div.sk-parallel-item:last-child::after {align-self: flex-start;width: 50%;}#sk-container-id-1 div.sk-parallel-item:only-child::after {width: 0;}#sk-container-id-1 div.sk-dashed-wrapped {border: 1px dashed gray;margin: 0 0.4em 0.5em 0.4em;box-sizing: border-box;padding-bottom: 0.4em;background-color: white;}#sk-container-id-1 div.sk-label label {font-family: monospace;font-weight: bold;display: inline-block;line-height: 1.2em;}#sk-container-id-1 div.sk-label-container {text-align: center;}#sk-container-id-1 div.sk-container {/* jupyter's `normalize.less` sets `[hidden] { display: none; }` but bootstrap.min.css set `[hidden] { display: none !important; }` so we also need the `!important` here to be able to override the default hidden behavior on the sphinx rendered scikit-learn.org. See: https://github.com/scikit-learn/scikit-learn/issues/21755 */display: inline-block !important;position: relative;}#sk-container-id-1 div.sk-text-repr-fallback {display: none;}</style><div id=\"sk-container-id-1\" class=\"sk-top-container\"><div class=\"sk-text-repr-fallback\"><pre>KNeighborsClassifier(n_neighbors=1)</pre><b>In a Jupyter environment, please rerun this cell to show the HTML representation or trust the notebook. <br />On GitHub, the HTML representation is unable to render, please try loading this page with nbviewer.org.</b></div><div class=\"sk-container\" hidden><div class=\"sk-item\"><div class=\"sk-estimator sk-toggleable\"><input class=\"sk-toggleable__control sk-hidden--visually\" id=\"sk-estimator-id-1\" type=\"checkbox\" checked><label for=\"sk-estimator-id-1\" class=\"sk-toggleable__label sk-toggleable__label-arrow\">KNeighborsClassifier</label><div class=\"sk-toggleable__content\"><pre>KNeighborsClassifier(n_neighbors=1)</pre></div></div></div></div></div>"
      ],
      "text/plain": [
       "KNeighborsClassifier(n_neighbors=1)"
      ]
     },
     "execution_count": 76,
     "metadata": {},
     "output_type": "execute_result"
    }
   ],
   "source": [
    "knn.fit(X, y)"
   ]
  },
  {
   "cell_type": "code",
   "execution_count": 77,
   "metadata": {},
   "outputs": [],
   "source": [
    "def classify_iris(sepal_length, sepal_width):\n",
    "    # Create a new data point with the given inputs\n",
    "    input_data = np.array([[sepal_length, sepal_width]])\n",
    "    # Predict the flower type using the k-NN model\n",
    "    prediction = knn.predict(input_data)\n",
    "    return prediction[0]"
   ]
  },
  {
   "cell_type": "code",
   "execution_count": null,
   "metadata": {},
   "outputs": [
    {
     "name": "stdout",
     "output_type": "stream",
     "text": [
      "The flower is classified as: Iris-setosa\n"
     ]
    },
    {
     "name": "stderr",
     "output_type": "stream",
     "text": [
      "d:\\Anaconda\\Lib\\site-packages\\sklearn\\base.py:439: UserWarning: X does not have valid feature names, but KNeighborsClassifier was fitted with feature names\n",
      "  warnings.warn(\n"
     ]
    }
   ],
   "source": [
    "sepal_length = float(input(\"Enter sepal length: \"))\n",
    "sepal_width = float(input(\"Enter sepal width: \"))\n",
    "flower_type = classify_iris(sepal_length, sepal_width)\n",
    "print(f\"The flower is classified as: {flower_type}\")"
   ]
  },
  {
   "cell_type": "code",
   "execution_count": null,
   "metadata": {},
   "outputs": [],
   "source": []
  }
 ],
 "metadata": {
  "kernelspec": {
   "display_name": "base",
   "language": "python",
   "name": "python3"
  },
  "language_info": {
   "codemirror_mode": {
    "name": "ipython",
    "version": 3
   },
   "file_extension": ".py",
   "mimetype": "text/x-python",
   "name": "python",
   "nbconvert_exporter": "python",
   "pygments_lexer": "ipython3",
   "version": "3.11.7"
  }
 },
 "nbformat": 4,
 "nbformat_minor": 2
}
