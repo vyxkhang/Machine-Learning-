{
 "cells": [
  {
   "cell_type": "code",
   "execution_count": 2,
   "metadata": {},
   "outputs": [],
   "source": [
    "import pandas as pd\n",
    "import numpy as np "
   ]
  },
  {
   "cell_type": "code",
   "execution_count": 4,
   "metadata": {},
   "outputs": [
    {
     "data": {
      "text/html": [
       "<div>\n",
       "<style scoped>\n",
       "    .dataframe tbody tr th:only-of-type {\n",
       "        vertical-align: middle;\n",
       "    }\n",
       "\n",
       "    .dataframe tbody tr th {\n",
       "        vertical-align: top;\n",
       "    }\n",
       "\n",
       "    .dataframe thead th {\n",
       "        text-align: right;\n",
       "    }\n",
       "</style>\n",
       "<table border=\"1\" class=\"dataframe\">\n",
       "  <thead>\n",
       "    <tr style=\"text-align: right;\">\n",
       "      <th></th>\n",
       "      <th>Rank</th>\n",
       "      <th>City</th>\n",
       "      <th>Population</th>\n",
       "      <th>Area KM2</th>\n",
       "      <th>Area   M2</th>\n",
       "      <th>Density KM2</th>\n",
       "      <th>Density  M2</th>\n",
       "      <th>Country</th>\n",
       "      <th>Year</th>\n",
       "    </tr>\n",
       "  </thead>\n",
       "  <tbody>\n",
       "    <tr>\n",
       "      <th>0</th>\n",
       "      <td>1.0</td>\n",
       "      <td>Manila</td>\n",
       "      <td>1,846,513</td>\n",
       "      <td>43</td>\n",
       "      <td>17</td>\n",
       "      <td>43,062</td>\n",
       "      <td>111,532</td>\n",
       "      <td>Filipinler *</td>\n",
       "      <td>2020  [1] 2018 [2]</td>\n",
       "    </tr>\n",
       "    <tr>\n",
       "      <th>1</th>\n",
       "      <td>2.0</td>\n",
       "      <td>Mandaluyong</td>\n",
       "      <td>425,758</td>\n",
       "      <td>11</td>\n",
       "      <td>4</td>\n",
       "      <td>38,495</td>\n",
       "      <td>99,703</td>\n",
       "      <td>Filipinler *</td>\n",
       "      <td>2020  [1] [3]</td>\n",
       "    </tr>\n",
       "    <tr>\n",
       "      <th>2</th>\n",
       "      <td>3.0</td>\n",
       "      <td>pateros</td>\n",
       "      <td>65,227</td>\n",
       "      <td>2</td>\n",
       "      <td>1</td>\n",
       "      <td>37,061</td>\n",
       "      <td>95,988</td>\n",
       "      <td>Filipinler *</td>\n",
       "      <td>2020  [1] 2013 [3]</td>\n",
       "    </tr>\n",
       "    <tr>\n",
       "      <th>3</th>\n",
       "      <td>4.0</td>\n",
       "      <td>Caloocan</td>\n",
       "      <td>1,661,584</td>\n",
       "      <td>53</td>\n",
       "      <td>21</td>\n",
       "      <td>31,233</td>\n",
       "      <td>80,893</td>\n",
       "      <td>Filipinler *</td>\n",
       "      <td>2020  [1] [3]</td>\n",
       "    </tr>\n",
       "    <tr>\n",
       "      <th>4</th>\n",
       "      <td>5.0</td>\n",
       "      <td>ben fren</td>\n",
       "      <td>212,646</td>\n",
       "      <td>7</td>\n",
       "      <td>3</td>\n",
       "      <td>30,001</td>\n",
       "      <td>77,702</td>\n",
       "      <td>İsrail *</td>\n",
       "      <td>2022 [4] [5]</td>\n",
       "    </tr>\n",
       "    <tr>\n",
       "      <th>5</th>\n",
       "      <td>6.0</td>\n",
       "      <td>Katmandu</td>\n",
       "      <td>1,442,000</td>\n",
       "      <td>49</td>\n",
       "      <td>19</td>\n",
       "      <td>29,161</td>\n",
       "      <td>75,526</td>\n",
       "      <td>Nepal *</td>\n",
       "      <td>2020 [6]</td>\n",
       "    </tr>\n",
       "    <tr>\n",
       "      <th>6</th>\n",
       "      <td>7.0</td>\n",
       "      <td>Dakka</td>\n",
       "      <td>8,906,136</td>\n",
       "      <td>306</td>\n",
       "      <td>118</td>\n",
       "      <td>29,069</td>\n",
       "      <td>75,289</td>\n",
       "      <td>Bangladeş *</td>\n",
       "      <td>-</td>\n",
       "    </tr>\n",
       "    <tr>\n",
       "      <th>7</th>\n",
       "      <td>8.0</td>\n",
       "      <td>Makati</td>\n",
       "      <td>629,616</td>\n",
       "      <td>22</td>\n",
       "      <td>8</td>\n",
       "      <td>28,975</td>\n",
       "      <td>75,044</td>\n",
       "      <td>Filipinler *</td>\n",
       "      <td>2020  [1] [3]</td>\n",
       "    </tr>\n",
       "    <tr>\n",
       "      <th>8</th>\n",
       "      <td>9.0</td>\n",
       "      <td>Manhattan</td>\n",
       "      <td>1,628,701</td>\n",
       "      <td>59</td>\n",
       "      <td>23</td>\n",
       "      <td>27,544</td>\n",
       "      <td>71,340</td>\n",
       "      <td>Amerika Birleşik Devletleri</td>\n",
       "      <td>2020</td>\n",
       "    </tr>\n",
       "    <tr>\n",
       "      <th>9</th>\n",
       "      <td>10.0</td>\n",
       "      <td>Port-au-Prince</td>\n",
       "      <td>987,310</td>\n",
       "      <td>36</td>\n",
       "      <td>14</td>\n",
       "      <td>27,395</td>\n",
       "      <td>70,953</td>\n",
       "      <td>Hatay *</td>\n",
       "      <td>2015 [7]</td>\n",
       "    </tr>\n",
       "  </tbody>\n",
       "</table>\n",
       "</div>"
      ],
      "text/plain": [
       "   Rank            City Population Area KM2 Area   M2 Density KM2 Density  M2  \\\n",
       "0   1.0          Manila  1,846,513       43        17      43,062     111,532   \n",
       "1   2.0     Mandaluyong    425,758       11         4      38,495      99,703   \n",
       "2   3.0         pateros     65,227        2         1      37,061      95,988   \n",
       "3   4.0        Caloocan  1,661,584       53        21      31,233      80,893   \n",
       "4   5.0        ben fren    212,646        7         3      30,001      77,702   \n",
       "5   6.0        Katmandu  1,442,000       49        19      29,161      75,526   \n",
       "6   7.0           Dakka  8,906,136      306       118      29,069      75,289   \n",
       "7   8.0          Makati    629,616       22         8      28,975      75,044   \n",
       "8   9.0       Manhattan  1,628,701       59        23      27,544      71,340   \n",
       "9  10.0  Port-au-Prince    987,310       36        14      27,395      70,953   \n",
       "\n",
       "                        Country                Year  \n",
       "0                  Filipinler *  2020  [1] 2018 [2]  \n",
       "1                  Filipinler *       2020  [1] [3]  \n",
       "2                  Filipinler *  2020  [1] 2013 [3]  \n",
       "3                  Filipinler *       2020  [1] [3]  \n",
       "4                      İsrail *        2022 [4] [5]  \n",
       "5                       Nepal *            2020 [6]  \n",
       "6                   Bangladeş *                   -  \n",
       "7                  Filipinler *       2020  [1] [3]  \n",
       "8   Amerika Birleşik Devletleri                2020  \n",
       "9                       Hatay *            2015 [7]  "
      ]
     },
     "execution_count": 4,
     "metadata": {},
     "output_type": "execute_result"
    }
   ],
   "source": [
    "df = pd.read_csv('D:\\Learning\\Machine-Learning-\\data\\dataset_1.csv')\n",
    "df.head(10)"
   ]
  },
  {
   "cell_type": "code",
   "execution_count": 17,
   "metadata": {},
   "outputs": [
    {
     "name": "stdout",
     "output_type": "stream",
     "text": [
      "                     City  Population\n",
      "31                  naber   1,072,161\n",
      "55  Ciudad Nezahualcóyotl   1,110,565\n",
      "5                Katmandu   1,442,000\n",
      "8               Manhattan   1,628,701\n",
      "68              Barselona   1,636,732\n",
      "3                Caloocan   1,661,584\n",
      "23                    Şam   1,711,000\n",
      "0                  Manila   1,846,513\n",
      "69                Cakarta  10,560,000\n",
      "28              Kallithea     100,050\n"
     ]
    }
   ],
   "source": [
    "#Task 1: Rearrange and print out top 10 cities with most populations and top 10 cities with smallest population\n",
    "top_10_city_most_populations = df.sort_values(by='Population',ascending=True).head(10)\n",
    "print(top_10_city_most_populations[['City','Population']])"
   ]
  },
  {
   "cell_type": "code",
   "execution_count": 16,
   "metadata": {},
   "outputs": [
    {
     "name": "stdout",
     "output_type": "stream",
     "text": [
      "                   City Population\n",
      "9        Port-au-Prince    987,310\n",
      "60  Sint-Jans-Molenbeek     97,462\n",
      "25               Asmara    963,000\n",
      "61                 Seul  9,962,393\n",
      "71               Kahire  9,539,673\n",
      "54   Asnières-sur-Seine     85,191\n",
      "41           Courbevoie     81,719\n",
      "13                pasig    803,159\n",
      "58        Modi'in Illit     80,894\n",
      "6                 Dakka  8,906,136\n"
     ]
    }
   ],
   "source": [
    "top_10_city_smallest_population = df.sort_values(by='Population',ascending=False).head(10)\n",
    "print(top_10_city_smallest_population[['City','Population']])"
   ]
  },
  {
   "cell_type": "code",
   "execution_count": 58,
   "metadata": {},
   "outputs": [
    {
     "name": "stdout",
     "output_type": "stream",
     "text": [
      "Country\n",
      " Filipinler *                     18\n",
      " Fransa *                         17\n",
      " Belçika *                         5\n",
      " İspanya *                         4\n",
      " Amerika Birleşik Devletleri *     3\n",
      " Endonezya *                       3\n",
      " İsrail *                          3\n",
      " Yunanistan *                      3\n",
      " Hindistan *                       3\n",
      "Name: count, dtype: int64\n"
     ]
    }
   ],
   "source": [
    "#Task 2: Print out name of the country with at least 3 city\n",
    "country_city_count = df['Country'].value_counts()\n",
    "countries_with_at_least_3_cities = country_city_count[country_city_count >= 3]\n",
    "print(countries_with_at_least_3_cities)"
   ]
  },
  {
   "cell_type": "code",
   "execution_count": 25,
   "metadata": {},
   "outputs": [
    {
     "name": "stdout",
     "output_type": "stream",
     "text": [
      "                           Country            City\n",
      "62     Amerika Birleşik Devletleri  Kore mahallesi\n",
      "8      Amerika Birleşik Devletleri       Manhattan\n",
      "37   Amerika Birleşik Devletleri *    Birlik Şehri\n",
      "43   Amerika Birleşik Devletleri *   Batı New York\n",
      "50   Amerika Birleşik Devletleri *         Hoböken\n"
     ]
    }
   ],
   "source": [
    "#Task 3: Print out top 5 country with the most cities appear\n",
    "top_5_with_most_cities = df.sort_values(by='Country',ascending=True).head(5) \n",
    "print(top_5_with_most_cities[['Country','City']])"
   ]
  },
  {
   "cell_type": "code",
   "execution_count": null,
   "metadata": {},
   "outputs": [],
   "source": []
  }
 ],
 "metadata": {
  "kernelspec": {
   "display_name": "base",
   "language": "python",
   "name": "python3"
  },
  "language_info": {
   "codemirror_mode": {
    "name": "ipython",
    "version": 3
   },
   "file_extension": ".py",
   "mimetype": "text/x-python",
   "name": "python",
   "nbconvert_exporter": "python",
   "pygments_lexer": "ipython3",
   "version": "3.11.7"
  }
 },
 "nbformat": 4,
 "nbformat_minor": 2
}
